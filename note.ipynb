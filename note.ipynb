{
 "cells": [
  {
   "cell_type": "markdown",
   "metadata": {},
   "source": [
    "# 1. Les's Discuss Learning"
   ]
  },
  {
   "cell_type": "markdown",
   "metadata": {},
   "source": [
    "## 1.1 Welcome"
   ]
  },
  {
   "cell_type": "markdown",
   "metadata": {},
   "source": [
    "From time to time - thỉnh thoảng.\n",
    "- Máy tính chỉ có thể làm những thứ mà chúng ta yêu cầu\n",
    "- Nó là sai, máy có thể làm được những cái mà con người chúng ta không thể giải thích được.\n",
    "- Ví dụ được lấy sẽ là chơi cờ Đam về việc sự tự học hỏi của máy tính trong lập trình."
   ]
  },
  {
   "cell_type": "markdown",
   "metadata": {},
   "source": [
    "Một ví dụ kinh điển và lâu đời là về Arthur Samuel - Nhân viên lập trình cho IBM vào những năm 1950\n",
    "- Anh ta phải làm công việc là kiểm tra những chiếc bóng bán dẫn và tránh để nó nổ khi người dùng sử dụng và chạy chương trình. \n",
    "- Sau 1 khoảng thời gian thì anh ta cảm thấy chán và chuyển sự hứng thú/chú ý của mình sang trò chơi mà được chạy.\n",
    "- Tiếp đó anh ta xây dựng một chương trình có thể chơi cờ Đam được với mình.\n",
    "- Tuy nhiên, anh cảm thấy chán khi phải chơi cờ với chính bản thân, a đã nghĩ rằng sẽ biến máy tính thành đối thủ của mình, và anh sẽ cho máy tính học chơi cờ Đam.\n",
    "- Anh ta thiết kế các kịch bản và giá trị để máy có thể tính toán các bước đi sao cho hợp lý, nhưng ban đầu nó sẽ rất tệ, và kết quả phát triển rất chậm.\n",
    "- Sau đó anh nảy sinh ra ý tưởng là để cho máy tính chơi với 1 máy tính khác và thoát khỏi vòng lặp. \n",
    "- Thay vì chơi với Samuel thì máy sẽ tự chơi với nhau nên tốc độ học sẽ nhanh hơn và cũng chính xác hơn. Không chỉ vậy nó còn phát triển thêm nhiều kết quả mỗi ngày/giờ phút và giây.\n",
    "- Và nổi máy tính đã có thể đánh bài Samuel nhiều lần và máy tính có thể làm được những điều mà chúng ta không yêu cầu nó làm. Và mệnh đề \"máy tính chỉ có thể làm được những gì mà chúng được yêu cầu\", đó là mệnh đề sai."
   ]
  },
  {
   "cell_type": "markdown",
   "metadata": {},
   "source": [
    "Thuật ngữ meta-learning\n",
    "- Chúng ta vừa thực hiện tất cả cá meta về bạn\n",
    "- "
   ]
  }
 ],
 "metadata": {
  "language_info": {
   "name": "python"
  },
  "orig_nbformat": 4
 },
 "nbformat": 4,
 "nbformat_minor": 2
}
